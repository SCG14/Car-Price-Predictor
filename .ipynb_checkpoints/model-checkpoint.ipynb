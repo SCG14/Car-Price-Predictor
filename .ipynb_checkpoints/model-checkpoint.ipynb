{
 "cells": [
  {
   "cell_type": "code",
   "execution_count": 2,
   "metadata": {
    "pycharm": {
     "is_executing": true,
     "name": "#%%\n"
    }
   },
   "outputs": [],
   "source": [
    "import tensorflow as tf\n",
    "import pandas as pd\n",
    "import seaborn as sns"
   ]
  },
  {
   "cell_type": "code",
   "execution_count": 3,
   "metadata": {
    "pycharm": {
     "is_executing": true,
     "name": "#%%\n"
    }
   },
   "outputs": [],
   "source": [
    "data = pd.read_csv(\"train.csv\")"
   ]
  },
  {
   "cell_type": "code",
   "execution_count": 4,
   "metadata": {
    "pycharm": {
     "name": "#%%\n"
    },
    "scrolled": true
   },
   "outputs": [],
   "source": [
    "#sns.pairplot(data[['years', 'km', 'rating', 'condition', 'economy', 'top speed', 'hp', 'torque', 'current price']], diag_kind='kde')"
   ]
  },
  {
   "cell_type": "code",
   "execution_count": 5,
   "metadata": {
    "pycharm": {
     "is_executing": true,
     "name": "#%%\n"
    }
   },
   "outputs": [
    {
     "name": "stdout",
     "output_type": "stream",
     "text": [
      "tf.Tensor(\n",
      "[[1.000000e+00 5.356510e+05 7.981860e+05 ... 7.300000e+01 1.230000e+02\n",
      "  3.513180e+05]\n",
      " [2.000000e+00 5.919110e+05 8.610560e+05 ... 7.400000e+01 9.500000e+01\n",
      "  2.850015e+05]\n",
      " [3.000000e+00 6.869900e+05 7.707620e+05 ... 5.300000e+01 9.700000e+01\n",
      "  2.153860e+05]\n",
      " ...\n",
      " [9.980000e+02 6.463440e+05 8.427330e+05 ... 1.130000e+02 8.900000e+01\n",
      "  4.058710e+05]\n",
      " [9.990000e+02 5.355590e+05 7.324390e+05 ... 1.120000e+02 1.280000e+02\n",
      "  7.439800e+04]\n",
      " [1.000000e+03 5.901050e+05 7.797430e+05 ... 9.900000e+01 9.600000e+01\n",
      "  4.149385e+05]], shape=(1000, 12), dtype=float32)\n"
     ]
    }
   ],
   "source": [
    "tensor_data = tf.constant(data)\n",
    "tensor_data = tf.cast(tensor_data, tf.float32)\n",
    "print(tensor_data)"
   ]
  },
  {
   "cell_type": "code",
   "execution_count": null,
   "metadata": {
    "pycharm": {
     "is_executing": true,
     "name": "#%%\n"
    }
   },
   "outputs": [],
   "source": []
  },
  {
   "cell_type": "code",
   "execution_count": null,
   "metadata": {},
   "outputs": [],
   "source": []
  }
 ],
 "metadata": {
  "kernelspec": {
   "display_name": "Python 3 (ipykernel)",
   "language": "python",
   "name": "python3"
  },
  "language_info": {
   "codemirror_mode": {
    "name": "ipython",
    "version": 3
   },
   "file_extension": ".py",
   "mimetype": "text/x-python",
   "name": "python",
   "nbconvert_exporter": "python",
   "pygments_lexer": "ipython3",
   "version": "3.10.13"
  }
 },
 "nbformat": 4,
 "nbformat_minor": 1
}
